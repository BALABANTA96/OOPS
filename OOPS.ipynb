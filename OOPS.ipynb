{
  "nbformat": 4,
  "nbformat_minor": 0,
  "metadata": {
    "colab": {
      "provenance": []
    },
    "kernelspec": {
      "name": "python3",
      "display_name": "Python 3"
    },
    "language_info": {
      "name": "python"
    }
  },
  "cells": [
    {
      "cell_type": "markdown",
      "source": [
        "#OOPS"
      ],
      "metadata": {
        "id": "_wVejUHvxM5s"
      }
    },
    {
      "cell_type": "markdown",
      "source": [
        "1. What is Object-Oriented Programming (OOP)?\n",
        "   - Object-Oriented Programming (OOP) is a programming paradigm that organizes software design around objects, which represent real-world entities. Each object encapsulates data (attributes) and behavior (methods), making programs more modular, reusable, and easier to manage.\n",
        "2. What is a class in OOP?\n",
        "   - A class in OOPS serves as a blueprint or template for creating objects. It defines the structure and behavior that the objects created from it will have. In essence, a class groups related data (attributes) and functions (methods) into a single unit.\n",
        "3. What is an object in OOP?\n",
        "   - In Object-Oriented Programming (OOP), an object is a fundamental building block that represents a real-world entity or concept. It is an instance of a class, which is essentially a blueprint or template. Objects combine data (attributes or properties) and behavior (methods or functions) into a single unit.\n",
        "4. What is the difference between abstraction and encapsulation?\n",
        "   - Abstraction: Abstraction focuses on hiding complexity by only exposing essential features of an object or a system.It helps in simplifying the design of a system and allows users to interact with objects or systems at a high level.\n",
        "   - Encapsulation is about hiding the internal details of how an object works and restricting direct access to its components.\n",
        "5. What are dunder methods in Python?\n",
        "   - Dunder methods, \"double underscore methods\"(also called magic methods), are special methods in Python with names surrounded by double underscores (e.g., __init__, __str__).\n",
        "\n",
        "6. Explain the concept of inheritance in OOP?\n",
        "   - it refers to process of child class receiving the properties of parent class. This facilitates code reusability and establishes a hierarchy between classes.\n",
        "\n",
        "7. What is polymorphism in OOP?\n",
        "   - poly means many and morphism means forms/states. It refers to an object taking several forms depending on the methods/ data.\n",
        "\n",
        "8. How is encapsulation achieved in Python?\n",
        "   - In Python, encapsulation is achieved by bundling data (attributes) and methods (functions) within a class, and controlling access to them using access modifiers. This ensures that the internal details of an object are hidden from the outside world, and interaction with the object is regulated through well-defined interfaces.\n",
        "\n",
        "9. What is a constructor in Python?\n",
        "   - In Python, a constructor is a special method used to initialize objects of a class. It is automatically called when an object is created. The constructor method is named __init__ and is defined within the class definition. Its primary purpose is to set up the initial state of an object by assigning values to its attributes.\n",
        "\n",
        "10. What are class and static methods in Python?\n",
        "    - A class method can access or modify the class state while a static method can't access or modify it. class method bound to the class but static method doesn't depend on class/instances.\n",
        "\n",
        "11. What is method overloading in Python?\n",
        "    - Method overloading in Python refers to the ability of a single method to perform different operations based on the type or number of arguments passed to it. method overloading happens in the same class.\n",
        "\n",
        "12. What is method overriding in OOP?\n",
        "    - Method overriding is a concept in object-oriented programming (OOP) that allows a subclass to provide a specific implementation for a method that is already defined in its parent (or superclass). This is used to change or extend the behavior of the inherited method, making it specific to the subclass.\n",
        "\n",
        "13. What is a property decorator in Python?\n",
        "    - In Python, a property decorator (@property) is a built-in feature that allows you to define methods in a class that can be accessed like attributes.\n",
        "\n",
        "14. Why is polymorphism important in OOP?\n",
        "    - Polymorphism is a cornerstone concept in object-oriented programming (OOP) because it enhances flexibility, scalability, and maintainability in code. Here's why it's so important.\n",
        "\n",
        "15. What is an abstract class in Python?\n",
        "    - An abstract class in Python is a blueprint for other classes.Abstract classes are designed to be inherited by subclasses, which provide implementations for the abstract methods.\n",
        "\n",
        "16. What are the advantages of OOP?\n",
        "    - Object-Oriented Programming (OOP) provides a variety of benefits that make it a popular programming paradigm.some of its key advantages:\n",
        "    - Modularity through Classes\n",
        "    - Code Reusability\n",
        "    - Encapsulation\n",
        "17. What is the difference between a class variable and an instance variable?\n",
        "    - Class variables and instance variables are both used to store data in a class, but they differ in their scope, usage, and behavior.\n",
        "\n",
        "18. What is multiple inheritance in Python?\n",
        "    - Multiple inheritance in Python is a feature of object-oriented programming that allows a class to inherit from more than one parent class. This means that a child class can have access to attributes and methods from multiple classes, combining their functionalities.\n",
        "\n",
        "19. Explain the purpose of ‘’__str__’ and ‘__repr__’ ‘ methods in Python.\n",
        "    - In Python, __str__ and __repr__ are special methods used to define string representations of objects. They serve different purposes and are useful for enhancing the readability and debugging of code.\n",
        "\n",
        "20. What is the significance of the ‘super()’ function in Python?\n",
        "    - The super() function in Python is a built-in function that plays a vital role in object-oriented programming. It is used to call a method from a parent (or superclass) within a child (or subclass). This is particularly significant in cases of inheritance, especially when working with multiple inheritance.\n",
        "\n",
        "21. What is the significance of the __del__ method in Python?\n",
        "    - The __del__ method in Python is a special method, also known as a destructor, that is called when an object is about to be destroyed. It allows you to define cleanup operations, such as releasing resources or performing other necessary finalizations, before the object is deleted from memory.\n",
        "\n",
        "22. What is the difference between @staticmethod and @classmethod in Python?\n",
        "    - In Python, both @staticmethod and @classmethod are decorators used to define methods in a class that are not regular instance methods. They differ in how they interact with the class and its attributes.\n",
        "\n",
        "23. How does polymorphism work in Python with inheritance?\n",
        "    - Polymorphism in Python works seamlessly with inheritance to allow objects of different classes to be treated as objects of a common parent class. It enables you to define methods in the parent class and override them in the child classes, leading to different behaviors based on the objects type.\n",
        "24. What is method chaining in Python OOP?\n",
        "    - Method chaining in Python Object-Oriented Programming (OOP) is a technique where multiple methods are called on the same object in a single statement, forming a chain-like structure.\n",
        "\n",
        "25. What is the purpose of the __call__ method in Python?\n",
        "    - In Python, the __call__ method is a special method that allows an instance of a class to be called as if it were a function. This effectively makes the object \"callable\". The purpose of the __call__ method is to provide a way to define custom behavior when an object is invoked like a function.\n",
        "\n"
      ],
      "metadata": {
        "id": "wOdQtNgOxQYf"
      }
    },
    {
      "cell_type": "code",
      "source": [
        "#Practical questions\n"
      ],
      "metadata": {
        "id": "O6HvIX3wvkV3"
      },
      "execution_count": 6,
      "outputs": []
    },
    {
      "cell_type": "code",
      "source": [
        "#Q1. Create a parent class Animal with a method speak() that prints a generic message. Create a child class Dog\n",
        "that overrides the speak() method to print \"Bark!\".\n",
        "class Animal:\n",
        "    def speak(self):\n",
        "        print(\"Generic animal sound\")\n",
        "\n",
        "class Dog(Animal):\n",
        "    def speak(self):\n",
        "        print(\"Bark!\")"
      ],
      "metadata": {
        "id": "fCCow_6_60MK"
      },
      "execution_count": null,
      "outputs": []
    },
    {
      "cell_type": "code",
      "source": [
        "#Q2.  Write a program to create an abstract class Shape with a method area(). Derive classes Circle and Rectangle from it and implement the area() method in both.\n",
        "from abc import ABC, abstractmethod\n",
        "\n",
        "class Shape(ABC):\n",
        "    @abstractmethod\n",
        "    def area(self):\n",
        "        pass\n",
        "\n",
        "class Circle(Shape):\n",
        "    def __init__(self, radius):\n",
        "        self.radius = radius\n",
        "    def area(self):\n",
        "        return 3.14 * self.radius * self.radius\n",
        "\n",
        "class Rectangle(Shape):\n",
        "    def __init__(self, length, breadth):\n",
        "        self.length = length\n",
        "        self.breadth = breadth\n",
        "    def area(self):\n",
        "        return self.length * self.breadth"
      ],
      "metadata": {
        "id": "XCHR5PZE7v1i"
      },
      "execution_count": null,
      "outputs": []
    },
    {
      "cell_type": "code",
      "source": [
        "#Q3.  Implement a multi-level inheritance scenario where a class Vehicle has an attribute type. Derive a class Car and further derive a class ElectricCar that adds a battery attribute.\n",
        "class Vehicle:\n",
        "    def __init__(self, vehicle_type):\n",
        "        self.type = vehicle_type\n",
        "\n",
        "class Car(Vehicle):\n",
        "    def __init__(self, vehicle_type, model):\n",
        "        super().__init__(vehicle_type)\n",
        "        self.model = model\n",
        "\n",
        "class ElectricCar(Car):\n",
        "    def __init__(self, vehicle_type, model, battery_capacity):\n",
        "        super().__init__(vehicle_type, model)\n",
        "        self.battery = battery_capacity"
      ],
      "metadata": {
        "id": "IXJVpiSaK-Ch"
      },
      "execution_count": 19,
      "outputs": []
    },
    {
      "cell_type": "code",
      "source": [
        "#Q4. Demonstrate polymorphism by creating a base class Bird with a method fly(). Create two derived classes Sparrow and Penguin that override the fly() method.\n",
        "class Bird:\n",
        "    def fly(self):\n",
        "        print(\"Most birds can fly.\")\n",
        "\n",
        "class Sparrow(Bird):\n",
        "    def fly(self):\n",
        "        print(\"Sparrow: I fly high and fast!\")\n",
        "\n",
        "class Penguin(Bird):\n",
        "    def fly(self):\n",
        "        print(\"Penguin: I cannot fly, but I can swim!\")\n",
        "\n",
        "# Function demonstrating polymorphism\n",
        "def bird_flight(bird):\n",
        "    bird.fly()"
      ],
      "metadata": {
        "id": "lICKrcU7MKSQ"
      },
      "execution_count": 24,
      "outputs": []
    },
    {
      "cell_type": "code",
      "source": [
        "#Q5. Write a program to demonstrate encapsulation by creating a class BankAccount with private attributes balance and methods to deposit, withdraw, and check balance.\n",
        "class BankAccount:\n",
        "    def __init__(self, initial_balance=0):\n",
        "        self.__balance = initial_balance  # Private attribute\n",
        "\n",
        "    def deposit(self, amount):\n",
        "        if amount > 0:\n",
        "            self.__balance += amount\n",
        "            print(f\"Deposited ${amount}. New balance: ${self.__balance}\")\n",
        "        else:\n",
        "            print(\"Invalid deposit amount.\")\n",
        "\n",
        "    def withdraw(self, amount):\n",
        "        if 0 < amount <= self.__balance:\n",
        "            self.__balance -= amount\n",
        "            print(f\"Withdrew ${amount}. New balance: ${self.__balance}\")\n",
        "        else:\n",
        "            print(\"Invalid withdrawal amount or insufficient funds.\")\n",
        "\n",
        "    def check_balance(self):\n",
        "        print(f\"Current balance: ${self.__balance}\")"
      ],
      "metadata": {
        "id": "ONIescfZONvQ"
      },
      "execution_count": 30,
      "outputs": []
    },
    {
      "cell_type": "code",
      "source": [
        "#Q.6 Demonstrate runtime polymorphism using a method play() in a base class Instrument. Derive classes Guitar and Piano that implement their own version of play().\n",
        "class Instrument:\n",
        "    def play(self):\n",
        "        print(\"Playing an instrument\")\n",
        "\n",
        "class Guitar(Instrument):\n",
        "    def play(self):\n",
        "        print(\"Playing a guitar\")\n",
        "\n",
        "class Piano(Instrument):\n",
        "    def play(self):\n",
        "        print(\"Playing a piano\")\n",
        "\n",
        "# Demonstrate runtime polymorphism\n",
        "instruments = [Guitar(), Piano(), Instrument()]\n",
        "\n",
        "for instrument in instruments:\n",
        "    instrument.play()"
      ],
      "metadata": {
        "id": "YsO3KR5xO4Mh"
      },
      "execution_count": null,
      "outputs": []
    },
    {
      "cell_type": "code",
      "source": [
        "#Q.7 Create a class MathOperations with a class method add_numbers() to add two numbers and a static method subtract_numbers() to subtract two numbers.\n",
        "class MathOperations:\n",
        "    @classmethod\n",
        "    def add_numbers(cls, a, b):\n",
        "        return a + b\n",
        "\n",
        "    @staticmethod\n",
        "    def subtract_numbers(a, b):\n",
        "        return a - b"
      ],
      "metadata": {
        "id": "sLknJiXDPiBN"
      },
      "execution_count": 36,
      "outputs": []
    },
    {
      "cell_type": "code",
      "source": [
        "#8. Implement a class Person with a class method to count the total number of persons created.\n",
        "class Person:\n",
        "    count = 0  # Class variable to track the total number of persons\n",
        "\n",
        "    def __init__(self, name, age):\n",
        "        self.name = name\n",
        "        self.age = age\n",
        "        Person.count += 1  # Increment the count when a new person is created\n",
        "\n",
        "    @classmethod\n",
        "    def get_total_persons(cls):\n",
        "        return cls.count"
      ],
      "metadata": {
        "id": "5FsFyTH6QCAf"
      },
      "execution_count": 40,
      "outputs": []
    },
    {
      "cell_type": "code",
      "source": [
        "#Q.9 Write a class Fraction with attributes numerator and denominator. Override the str method to display the fraction as \"numerator/denominator\"\n",
        "class Fraction:\n",
        "    def __init__(self, numerator, denominator):\n",
        "        self.numerator = numerator\n",
        "        self.denominator = denominator\n",
        "\n",
        "    def __str__(self):\n",
        "        return f\"{self.numerator}/{self.denominator}\""
      ],
      "metadata": {
        "id": "dDsDiq5_Qi5V"
      },
      "execution_count": 43,
      "outputs": []
    },
    {
      "cell_type": "code",
      "source": [
        "#Q.10 Demonstrate operator overloading by creating a class Vector and overriding the add method to add two vectors.\n",
        "class Vector:\n",
        "    def __init__(self, x, y):\n",
        "        self.x = x\n",
        "        self.y = y\n",
        "\n",
        "    def __add__(self, other):\n",
        "        return Vector(self.x + other.x, self.y + other.y)\n",
        "\n",
        "    def __str__(self):\n",
        "        return f\"({self.x}, {self.y})\"\n",
        "\n",
        "v1 = Vector(1, 2)\n",
        "v2 = Vector(3, 4)\n",
        "v3 = v1 + v2\n",
        "print(v3)  # Output: (4, 6)"
      ],
      "metadata": {
        "colab": {
          "base_uri": "https://localhost:8080/"
        },
        "id": "adsi9jZ0R7jW",
        "outputId": "e1421318-6307-4226-8de3-2dfe5c541b6b"
      },
      "execution_count": 46,
      "outputs": [
        {
          "output_type": "stream",
          "name": "stdout",
          "text": [
            "(4, 6)\n"
          ]
        }
      ]
    },
    {
      "cell_type": "code",
      "source": [
        "#Q.11 Create a class Person with attributes name and age. Add a method greet() that prints \"Hello, my name is {name} and I am {age} years old.\"\n",
        "class Person:\n",
        "    def __init__(self, name, age):\n",
        "        self.name = name\n",
        "        self.age = age\n",
        "\n",
        "    def greet(self):\n",
        "        print(f\"Hello, my name is {self.name} and I am {self.age} years old.\")"
      ],
      "metadata": {
        "id": "xMh48SoSSWeK"
      },
      "execution_count": 49,
      "outputs": []
    },
    {
      "cell_type": "code",
      "source": [
        "#Q.12 Implement a class Student with attributes name and grades. Create a method average_grade() to compute the average of the grades.\n",
        "class Student:\n",
        "    def __init__(self, name, grades):\n",
        "        self.name = name\n",
        "        self.grades = grades\n",
        "\n",
        "    def average_grade(self):\n",
        "        if not self.grades:\n",
        "            return 0  # Handle empty grades list\n",
        "        return sum(self.grades) / len(self.grades)"
      ],
      "metadata": {
        "id": "nRK_aPnpT1su"
      },
      "execution_count": 52,
      "outputs": []
    },
    {
      "cell_type": "code",
      "source": [
        "#Q.13 Create a class Rectangle with methods set_dimensions() to set the dimensions and area() to calculate the area.\n",
        "class Rectangle:\n",
        "    def set_dimensions(self, length, width):\n",
        "        self.length = length\n",
        "        self.width = width\n",
        "\n",
        "    def area(self):\n",
        "        return self.length * self.width"
      ],
      "metadata": {
        "id": "x3BtTJ0cUWOC"
      },
      "execution_count": 55,
      "outputs": []
    },
    {
      "cell_type": "code",
      "source": [
        "#Q.14 Create a class Employee with a method calculate_salary() that computes the salary based on hours worked and hourly rate. Create a derived class Manager that adds a bonus to the salary\n",
        "class Employee:\n",
        "    def __init__(self, hours_worked, hourly_rate):\n",
        "        self.hours_worked = hours_worked\n",
        "        self.hourly_rate = hourly_rate\n",
        "\n",
        "    def calculate_salary(self):\n",
        "        return self.hours_worked * self.hourly_rate\n",
        "\n",
        "class Manager(Employee):\n",
        "    def __init__(self, hours_worked, hourly_rate, bonus):\n",
        "        super().__init__(hours_worked, hourly_rate)\n",
        "        self.bonus = bonus\n",
        "\n",
        "    def calculate_salary(self):\n",
        "        return super().calculate_salary() + self.bonus"
      ],
      "metadata": {
        "id": "oz_sTckfUn-V"
      },
      "execution_count": 58,
      "outputs": []
    },
    {
      "cell_type": "code",
      "source": [
        "#Q.15  Create a class Product with attributes name, price, and quantity. Implement a method total_price() that calculates the total price of the product.\n",
        "class Product:\n",
        "    def __init__(self, name, price, quantity):\n",
        "        self.name = name\n",
        "        self.price = price\n",
        "        self.quantity = quantity\n",
        "\n",
        "    def total_price(self):\n",
        "        return self.price * self.quantity"
      ],
      "metadata": {
        "id": "ux1p6r1jU6Jz"
      },
      "execution_count": 61,
      "outputs": []
    },
    {
      "cell_type": "code",
      "source": [
        "#Q.16 Create a class Animal with an abstract method sound(). Create two derived classes Cow and Sheep that implement the sound() method.\n",
        "from abc import ABC, abstractmethod\n",
        "\n",
        "class Animal(ABC):\n",
        "    @abstractmethod\n",
        "    def sound(self):\n",
        "        pass\n",
        "\n",
        "class Cow(Animal):\n",
        "    def sound(self):\n",
        "        print(\"Moo\")\n",
        "\n",
        "class Sheep(Animal):\n",
        "    def sound(self):\n",
        "        print(\"Baa\")"
      ],
      "metadata": {
        "id": "S3hsllYbVRMq"
      },
      "execution_count": 64,
      "outputs": []
    },
    {
      "cell_type": "code",
      "source": [
        "#Q.17 Create a class Book with attributes title, author, and year_published. Add a method get_book_info() that returns a formatted string with the book's details\n",
        "class Book:\n",
        "    def __init__(self, title, author, year_published):\n",
        "        self.title = title\n",
        "        self.author = author\n",
        "        self.year_published = year_published\n",
        "\n",
        "    def get_book_info(self):\n",
        "        return f\"Title: {self.title}, Author: {self.author}, Year Published: {self.year_published}\""
      ],
      "metadata": {
        "id": "MFUDNcQGVjfM"
      },
      "execution_count": 67,
      "outputs": []
    },
    {
      "cell_type": "code",
      "source": [
        "#Q.18 Create a class House with attributes address and price. Create a derived class Mansion that adds an attribute number_of_rooms.\n",
        "class House:\n",
        "    def __init__(self, address, price):\n",
        "        self.address = address\n",
        "        self.price = price\n",
        "\n",
        "class Mansion(House):\n",
        "    def __init__(self, address, price, number_of_rooms):\n",
        "        super().__init__(address, price)\n",
        "        self.number_of_rooms = number_of_rooms"
      ],
      "metadata": {
        "id": "WC_ymixLV5kZ"
      },
      "execution_count": 70,
      "outputs": []
    }
  ]
}